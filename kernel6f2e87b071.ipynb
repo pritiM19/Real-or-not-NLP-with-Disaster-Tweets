{
 "cells": [
  {
   "cell_type": "markdown",
   "metadata": {
    "_cell_guid": "1b16a950-4731-4a5c-a110-0c6d7faa8f24",
    "_uuid": "4d4417d5-2785-4471-9ddb-ec07488c92cf"
   },
   "source": [
    "[1. Importing libraries](#section-one)\n",
    "\n",
    "[2. Exploratory data analysis](#section-two)\n",
    "\n",
    "[3. Preprocessing](#section-three)\n",
    "\n",
    "[4. Wordcloud](#section-four)\n",
    "\n",
    "[5. Journey from tokens to vector](#section-five)\n",
    "\n",
    "[6. Text Classifcation models](#section-six)\n",
    "\n",
    "[7. Submission](#section-seven)"
   ]
  },
  {
   "cell_type": "markdown",
   "metadata": {
    "_cell_guid": "e76c6221-a56d-4164-b3a4-66395d4d7137",
    "_uuid": "9c48cdae-ebb1-462a-aeba-53703e99e51d"
   },
   "source": [
    "<a id=\"section-one\"></a>\n",
    "# 1. Importing libraries"
   ]
  },
  {
   "cell_type": "code",
   "execution_count": 1,
   "metadata": {
    "_cell_guid": "55f5c258-1347-4ee3-8b55-cba347b3656e",
    "_uuid": "8948c80c-fb35-4ef3-bd80-c696ef105b71"
   },
   "outputs": [
    {
     "name": "stdout",
     "output_type": "stream",
     "text": [
      "/kaggle/input/nlp-getting-started/train.csv\n",
      "/kaggle/input/nlp-getting-started/test.csv\n",
      "/kaggle/input/nlp-getting-started/sample_submission.csv\n"
     ]
    },
    {
     "name": "stderr",
     "output_type": "stream",
     "text": [
      "Using TensorFlow backend.\n"
     ]
    }
   ],
   "source": [
    "# This Python 3 environment comes with many helpful analytics libraries installed\n",
    "# It is defined by the kaggle/python docker image: https://github.com/kaggle/docker-python\n",
    "# For example, here's several helpful packages to load in \n",
    "\n",
    "import numpy as np # linear algebra\n",
    "import pandas as pd # data processing, CSV file I/O (e.g. pd.read_csv)\n",
    "\n",
    "# Input data files are available in the \"../input/\" directory.\n",
    "# For example, running this (by clicking run or pressing Shift+Enter) will list all files under the input directory\n",
    "\n",
    "import os\n",
    "for dirname, _, filenames in os.walk('/kaggle/input'):\n",
    "    for filename in filenames:\n",
    "        print(os.path.join(dirname, filename))\n",
    "import re\n",
    "import nltk\n",
    "from nltk.corpus import stopwords\n",
    "import seaborn as sns\n",
    "import matplotlib.pyplot as plt\n",
    "import string\n",
    "from wordcloud import WordCloud\n",
    "from sklearn.feature_extraction.text import CountVectorizer,TfidfVectorizer\n",
    "from sklearn.linear_model import LogisticRegression\n",
    "from imblearn.pipeline import Pipeline\n",
    "from sklearn.model_selection import GridSearchCV, cross_val_score\n",
    "from sklearn.naive_bayes import MultinomialNB\n",
    "\n",
    "# Any results you write to the current directory are saved as output."
   ]
  },
  {
   "cell_type": "code",
   "execution_count": 2,
   "metadata": {
    "_cell_guid": "b1ec28ae-b835-4faf-918f-0c5d53876453",
    "_uuid": "5e50dc93-ad2b-4aa8-9571-291a79971ae4"
   },
   "outputs": [
    {
     "data": {
      "text/html": [
       "<div>\n",
       "<style scoped>\n",
       "    .dataframe tbody tr th:only-of-type {\n",
       "        vertical-align: middle;\n",
       "    }\n",
       "\n",
       "    .dataframe tbody tr th {\n",
       "        vertical-align: top;\n",
       "    }\n",
       "\n",
       "    .dataframe thead th {\n",
       "        text-align: right;\n",
       "    }\n",
       "</style>\n",
       "<table border=\"1\" class=\"dataframe\">\n",
       "  <thead>\n",
       "    <tr style=\"text-align: right;\">\n",
       "      <th></th>\n",
       "      <th>id</th>\n",
       "      <th>keyword</th>\n",
       "      <th>location</th>\n",
       "      <th>text</th>\n",
       "      <th>target</th>\n",
       "    </tr>\n",
       "  </thead>\n",
       "  <tbody>\n",
       "    <tr>\n",
       "      <th>0</th>\n",
       "      <td>1</td>\n",
       "      <td>NaN</td>\n",
       "      <td>NaN</td>\n",
       "      <td>Our Deeds are the Reason of this #earthquake M...</td>\n",
       "      <td>1</td>\n",
       "    </tr>\n",
       "    <tr>\n",
       "      <th>1</th>\n",
       "      <td>4</td>\n",
       "      <td>NaN</td>\n",
       "      <td>NaN</td>\n",
       "      <td>Forest fire near La Ronge Sask. Canada</td>\n",
       "      <td>1</td>\n",
       "    </tr>\n",
       "    <tr>\n",
       "      <th>2</th>\n",
       "      <td>5</td>\n",
       "      <td>NaN</td>\n",
       "      <td>NaN</td>\n",
       "      <td>All residents asked to 'shelter in place' are ...</td>\n",
       "      <td>1</td>\n",
       "    </tr>\n",
       "    <tr>\n",
       "      <th>3</th>\n",
       "      <td>6</td>\n",
       "      <td>NaN</td>\n",
       "      <td>NaN</td>\n",
       "      <td>13,000 people receive #wildfires evacuation or...</td>\n",
       "      <td>1</td>\n",
       "    </tr>\n",
       "    <tr>\n",
       "      <th>4</th>\n",
       "      <td>7</td>\n",
       "      <td>NaN</td>\n",
       "      <td>NaN</td>\n",
       "      <td>Just got sent this photo from Ruby #Alaska as ...</td>\n",
       "      <td>1</td>\n",
       "    </tr>\n",
       "  </tbody>\n",
       "</table>\n",
       "</div>"
      ],
      "text/plain": [
       "   id keyword location                                               text  \\\n",
       "0   1     NaN      NaN  Our Deeds are the Reason of this #earthquake M...   \n",
       "1   4     NaN      NaN             Forest fire near La Ronge Sask. Canada   \n",
       "2   5     NaN      NaN  All residents asked to 'shelter in place' are ...   \n",
       "3   6     NaN      NaN  13,000 people receive #wildfires evacuation or...   \n",
       "4   7     NaN      NaN  Just got sent this photo from Ruby #Alaska as ...   \n",
       "\n",
       "   target  \n",
       "0       1  \n",
       "1       1  \n",
       "2       1  \n",
       "3       1  \n",
       "4       1  "
      ]
     },
     "execution_count": 2,
     "metadata": {},
     "output_type": "execute_result"
    }
   ],
   "source": [
    "### Reading train dataset ###\n",
    "\n",
    "train = pd.read_csv('../input/nlp-getting-started/train.csv')\n",
    "train.head()"
   ]
  },
  {
   "cell_type": "code",
   "execution_count": 3,
   "metadata": {
    "_cell_guid": "4d7dafc8-b789-464f-807a-e4ad5bc5cbbb",
    "_uuid": "f4aa84b1-4b44-4461-bf8a-1f457cc72b2b"
   },
   "outputs": [
    {
     "data": {
      "text/plain": [
       "(7613, 5)"
      ]
     },
     "execution_count": 3,
     "metadata": {},
     "output_type": "execute_result"
    }
   ],
   "source": [
    "train.shape"
   ]
  },
  {
   "cell_type": "code",
   "execution_count": 4,
   "metadata": {
    "_cell_guid": "dee6223e-3ca1-45f6-852c-54ae7d21dbcc",
    "_uuid": "6b59ab12-ed51-4143-9434-a7d7ad8b0850"
   },
   "outputs": [
    {
     "data": {
      "text/html": [
       "<div>\n",
       "<style scoped>\n",
       "    .dataframe tbody tr th:only-of-type {\n",
       "        vertical-align: middle;\n",
       "    }\n",
       "\n",
       "    .dataframe tbody tr th {\n",
       "        vertical-align: top;\n",
       "    }\n",
       "\n",
       "    .dataframe thead th {\n",
       "        text-align: right;\n",
       "    }\n",
       "</style>\n",
       "<table border=\"1\" class=\"dataframe\">\n",
       "  <thead>\n",
       "    <tr style=\"text-align: right;\">\n",
       "      <th></th>\n",
       "      <th>id</th>\n",
       "      <th>keyword</th>\n",
       "      <th>location</th>\n",
       "      <th>text</th>\n",
       "    </tr>\n",
       "  </thead>\n",
       "  <tbody>\n",
       "    <tr>\n",
       "      <th>0</th>\n",
       "      <td>0</td>\n",
       "      <td>NaN</td>\n",
       "      <td>NaN</td>\n",
       "      <td>Just happened a terrible car crash</td>\n",
       "    </tr>\n",
       "    <tr>\n",
       "      <th>1</th>\n",
       "      <td>2</td>\n",
       "      <td>NaN</td>\n",
       "      <td>NaN</td>\n",
       "      <td>Heard about #earthquake is different cities, s...</td>\n",
       "    </tr>\n",
       "    <tr>\n",
       "      <th>2</th>\n",
       "      <td>3</td>\n",
       "      <td>NaN</td>\n",
       "      <td>NaN</td>\n",
       "      <td>there is a forest fire at spot pond, geese are...</td>\n",
       "    </tr>\n",
       "    <tr>\n",
       "      <th>3</th>\n",
       "      <td>9</td>\n",
       "      <td>NaN</td>\n",
       "      <td>NaN</td>\n",
       "      <td>Apocalypse lighting. #Spokane #wildfires</td>\n",
       "    </tr>\n",
       "    <tr>\n",
       "      <th>4</th>\n",
       "      <td>11</td>\n",
       "      <td>NaN</td>\n",
       "      <td>NaN</td>\n",
       "      <td>Typhoon Soudelor kills 28 in China and Taiwan</td>\n",
       "    </tr>\n",
       "  </tbody>\n",
       "</table>\n",
       "</div>"
      ],
      "text/plain": [
       "   id keyword location                                               text\n",
       "0   0     NaN      NaN                 Just happened a terrible car crash\n",
       "1   2     NaN      NaN  Heard about #earthquake is different cities, s...\n",
       "2   3     NaN      NaN  there is a forest fire at spot pond, geese are...\n",
       "3   9     NaN      NaN           Apocalypse lighting. #Spokane #wildfires\n",
       "4  11     NaN      NaN      Typhoon Soudelor kills 28 in China and Taiwan"
      ]
     },
     "execution_count": 4,
     "metadata": {},
     "output_type": "execute_result"
    }
   ],
   "source": [
    "# Reading test data ###\n",
    "test = pd.read_csv('../input/nlp-getting-started/test.csv')\n",
    "test.head()"
   ]
  },
  {
   "cell_type": "code",
   "execution_count": 5,
   "metadata": {
    "_cell_guid": "512a7299-7a28-4ac5-abe0-4df63c56aebb",
    "_uuid": "7b201ac3-ddcf-44c6-99be-b6526cce1558"
   },
   "outputs": [
    {
     "data": {
      "text/plain": [
       "(3263, 4)"
      ]
     },
     "execution_count": 5,
     "metadata": {},
     "output_type": "execute_result"
    }
   ],
   "source": [
    "test.shape"
   ]
  },
  {
   "cell_type": "markdown",
   "metadata": {
    "_cell_guid": "7d131f42-1faf-49d5-844b-f0d470c76a31",
    "_uuid": "59ec2847-2f60-444e-9e61-0b0fc630d643"
   },
   "source": [
    "<a id=\"section-two\"></a>\n",
    "# 2. Exploratory data analysis"
   ]
  },
  {
   "cell_type": "markdown",
   "metadata": {
    "_cell_guid": "a7c8a31a-bd18-4a59-af48-8e68be5e4047",
    "_uuid": "b7039639-36ec-49d3-a922-7a9d330a7add"
   },
   "source": [
    "1. Check for missingness"
   ]
  },
  {
   "cell_type": "code",
   "execution_count": 6,
   "metadata": {
    "_cell_guid": "959ac7ba-1ca2-4f16-a6a8-9802bea668a5",
    "_uuid": "840f5373-95a7-45d1-ade4-a4c87611737d"
   },
   "outputs": [
    {
     "data": {
      "text/plain": [
       "id             0\n",
       "keyword       61\n",
       "location    2533\n",
       "text           0\n",
       "target         0\n",
       "dtype: int64"
      ]
     },
     "execution_count": 6,
     "metadata": {},
     "output_type": "execute_result"
    }
   ],
   "source": [
    "train.isnull().sum()"
   ]
  },
  {
   "cell_type": "code",
   "execution_count": 7,
   "metadata": {
    "_cell_guid": "9d7d13a5-52d4-49ab-bf39-9d7cbe4bacf6",
    "_uuid": "6cc9bb4d-9e23-4ec5-8500-b61f6542836e"
   },
   "outputs": [
    {
     "data": {
      "text/plain": [
       "id             0\n",
       "keyword       26\n",
       "location    1105\n",
       "text           0\n",
       "dtype: int64"
      ]
     },
     "execution_count": 7,
     "metadata": {},
     "output_type": "execute_result"
    }
   ],
   "source": [
    "test.isnull().sum()"
   ]
  },
  {
   "cell_type": "markdown",
   "metadata": {
    "_cell_guid": "9535e313-4879-4fec-bf10-a3c7cee3988a",
    "_uuid": "690a0874-9d67-4b15-90c5-d339a8abcb42"
   },
   "source": [
    "The location column has a lot of missing values in both train and test sets. Keyword column has 61 and 26  missing values in train and test set respectively"
   ]
  },
  {
   "cell_type": "markdown",
   "metadata": {
    "_cell_guid": "91a811ab-e3a2-4d92-bbff-a52b2eed3a35",
    "_uuid": "565e298c-fa7b-4fa2-be90-7691673de3f2"
   },
   "source": [
    "2. Checking for duplicates"
   ]
  },
  {
   "cell_type": "code",
   "execution_count": 8,
   "metadata": {
    "_cell_guid": "97aea057-fc46-4409-8c10-438c4fc6a3d8",
    "_uuid": "3fe9d02c-5be0-46b7-b6e3-19e45e3e25fb"
   },
   "outputs": [
    {
     "data": {
      "text/plain": [
       "0"
      ]
     },
     "execution_count": 8,
     "metadata": {},
     "output_type": "execute_result"
    }
   ],
   "source": [
    "train.duplicated().sum()"
   ]
  },
  {
   "cell_type": "markdown",
   "metadata": {
    "_cell_guid": "848c95e1-3163-4ced-85a3-3125551122e7",
    "_uuid": "5f7e326f-c7af-4964-9d2b-85a416109fcb"
   },
   "source": [
    "2. Checkout Target column"
   ]
  },
  {
   "cell_type": "code",
   "execution_count": 9,
   "metadata": {
    "_cell_guid": "3596cddd-1df6-4ac9-8abd-c886ba43874c",
    "_uuid": "0d4b38f5-f329-4843-8d96-3a0714a7d83f"
   },
   "outputs": [
    {
     "data": {
      "text/plain": [
       "0    4342\n",
       "1    3271\n",
       "Name: target, dtype: int64"
      ]
     },
     "execution_count": 9,
     "metadata": {},
     "output_type": "execute_result"
    }
   ],
   "source": [
    "train.target.value_counts()"
   ]
  },
  {
   "cell_type": "code",
   "execution_count": 10,
   "metadata": {
    "_cell_guid": "96bb7606-0c02-434d-bad4-dd3aaded8911",
    "_uuid": "bcc764db-dc77-4769-a13a-837e5deb5e1a"
   },
   "outputs": [
    {
     "data": {
      "image/png": "[encoded data removed]",
      "text/plain": [
       "<Figure size 432x288 with 1 Axes>"
      ]
     },
     "metadata": {
      "needs_background": "light"
     },
     "output_type": "display_data"
    }
   ],
   "source": [
    "ax = sns.countplot(x=\"target\", data = train)\n",
    "plt.show()"
   ]
  },
  {
   "cell_type": "markdown",
   "metadata": {
    "_cell_guid": "55740e6f-e8ee-4ba2-9c4c-96aacd965d12",
    "_uuid": "58f454cf-5b13-4ecb-9a68-adc5b3860b0c"
   },
   "source": [
    "3. Checkout text column"
   ]
  },
  {
   "cell_type": "code",
   "execution_count": 11,
   "metadata": {
    "_cell_guid": "e4aa3aa6-903a-4be0-b75c-028202e15cba",
    "_uuid": "8d8c6ee6-4e8c-4584-8f25-031bc1203259"
   },
   "outputs": [
    {
     "name": "stdout",
     "output_type": "stream",
     "text": [
      "Example of a disaster tweet:\n",
      "\n"
     ]
    },
    {
     "data": {
      "text/plain": [
       "text    Our Deeds are the Reason of this #earthquake M...\n",
       "Name: 0, dtype: object"
      ]
     },
     "execution_count": 11,
     "metadata": {},
     "output_type": "execute_result"
    }
   ],
   "source": [
    "print(\"Example of a disaster tweet:\\n\")\n",
    "dis_tw = train.loc[train.target == 1,['text']]\n",
    "dis_tw.loc[0]"
   ]
  },
  {
   "cell_type": "code",
   "execution_count": 12,
   "metadata": {
    "_cell_guid": "f96b0a3b-1a0b-4d58-9a26-36e13794733e",
    "_uuid": "0547f33c-ccbc-4320-a158-acc797caffec"
   },
   "outputs": [
    {
     "name": "stdout",
     "output_type": "stream",
     "text": [
      "Example of a normal tweet:\n",
      "\n"
     ]
    },
    {
     "data": {
      "text/plain": [
       "array([\"What's up man?\"], dtype=object)"
      ]
     },
     "execution_count": 12,
     "metadata": {},
     "output_type": "execute_result"
    }
   ],
   "source": [
    "print(\"Example of a normal tweet:\\n\")\n",
    "norm_tw = train.loc[train.target == 0,['text']]\n",
    "norm_tw.values[0]"
   ]
  },
  {
   "cell_type": "markdown",
   "metadata": {
    "_cell_guid": "2b85cbe7-bf8c-4f75-a5eb-fab350b978dc",
    "_uuid": "7e0b0882-01d2-4fe4-945e-124e92731ae4"
   },
   "source": [
    "4. Checkout location column"
   ]
  },
  {
   "cell_type": "code",
   "execution_count": 13,
   "metadata": {
    "_cell_guid": "07dd7611-fb94-4db3-9a97-2c43f866d7e6",
    "_uuid": "2202b68c-35a9-42c1-9399-c7bec45dbb6f"
   },
   "outputs": [
    {
     "data": {
      "text/plain": [
       "Text(0.5, 1.0, 'Top 30 locations in the train set')"
      ]
     },
     "execution_count": 13,
     "metadata": {},
     "output_type": "execute_result"
    },
    {
     "data": {
      "image/png": "[encoded data removed]",
      "text/plain": [
       "<Figure size 1152x576 with 1 Axes>"
      ]
     },
     "metadata": {
      "needs_background": "light"
     },
     "output_type": "display_data"
    }
   ],
   "source": [
    "loca = train.location.value_counts(dropna = False)\n",
    "fig = plt.figure(figsize = (16, 8))\n",
    "sns.barplot(x= loca.iloc[0:31], y = loca.index[0:31], orient ='h')\n",
    "plt.title(\"Top 30 locations in the train set\")"
   ]
  },
  {
   "cell_type": "markdown",
   "metadata": {
    "_cell_guid": "24187a5e-4946-4700-85a3-798eb3885900",
    "_uuid": "e4b0c0e6-f06a-4073-81ce-0538ee08772c"
   },
   "source": [
    "Some locations e.g. New York, California, Clifornia, USA belong to same country. Cleaning the location column:"
   ]
  },
  {
   "cell_type": "code",
   "execution_count": 14,
   "metadata": {
    "_cell_guid": "7d09bfd3-5c6e-4bc2-ae87-cdd7809748e6",
    "_uuid": "15a3cd57-8de3-4d89-82da-86f846266e97"
   },
   "outputs": [],
   "source": [
    "# country_code = {\"New York\" :\"USA\", \"United States\": \"USA\", \"London\":\"UK\", \"Los Angeles, CA\": \"USA\", \"Mumbai\": \"India\",\n",
    "#                \"Washington, DC\":\"USA\", \"Chicago\":\"USA\", \"Chicago, IL\":'USA',\"California\":'USA',\"California, USA\":'USA',\n",
    "#                             \"FLorida\":'USA',\n",
    "#                             \"Nigeria\":'Africa',\n",
    "#                             \"Kenya\":'Africa',\n",
    "#                             \"Everywhere\":'Worldwide',\"San Francisco\":'USA',\n",
    "#                             \"United Kingdom\":'UK',\"Los Angeles\":'USA',\n",
    "#                             \"Toronto\":'Canada',\"San Francisco, CA\":'USA',\n",
    "#                             \"NYC\":'USA',\n",
    "#                              \"Earth\":'Worldwide',\"Ireland\":'UK',\n",
    "#                              \"New York, NY\":'USA'}\n",
    "# train.location = train.location.map(country_code)"
   ]
  },
  {
   "cell_type": "code",
   "execution_count": 15,
   "metadata": {
    "_cell_guid": "5b3f0de9-1129-4382-bdc5-1c0e649f4018",
    "_uuid": "5b83699e-840f-48b1-924b-0a89eb94c7ce"
   },
   "outputs": [
    {
     "data": {
      "text/plain": [
       "3342"
      ]
     },
     "execution_count": 15,
     "metadata": {},
     "output_type": "execute_result"
    }
   ],
   "source": [
    "loca = train.location.unique()\n",
    "# sns.barplot(x= loca.values[0:4], y = loca.index[0:4], orient ='h')\n",
    "# plt.title(\"Top 30 locations in the train set\")\n",
    "len(loca)"
   ]
  },
  {
   "cell_type": "markdown",
   "metadata": {
    "_cell_guid": "944b0fd8-a4b6-40ac-831a-cfc8dd16f868",
    "_uuid": "e8c962c7-2c4a-45b9-bc4a-0600f06628c2"
   },
   "source": [
    "5. Checkout keyword column"
   ]
  },
  {
   "cell_type": "code",
   "execution_count": 16,
   "metadata": {
    "_cell_guid": "a6a876f8-8588-489c-948b-069a7fe41ef7",
    "_uuid": "e02622b8-a65b-452b-80be-a5d9b9f03693"
   },
   "outputs": [
    {
     "data": {
      "text/plain": [
       "NaN                      61\n",
       "fatalities               45\n",
       "armageddon               42\n",
       "deluge                   42\n",
       "sinking                  41\n",
       "                         ..\n",
       "forest%20fire            19\n",
       "epicentre                12\n",
       "threat                   11\n",
       "inundation               10\n",
       "radiation%20emergency     9\n",
       "Name: keyword, Length: 222, dtype: int64"
      ]
     },
     "execution_count": 16,
     "metadata": {},
     "output_type": "execute_result"
    }
   ],
   "source": [
    "c = train.keyword.value_counts(dropna = False)\n",
    "c"
   ]
  },
  {
   "cell_type": "markdown",
   "metadata": {
    "_cell_guid": "667807e3-c3be-454c-b702-4d559a935f09",
    "_uuid": "bfc9d045-3ccc-4ebe-a9d3-0ab5714726fb"
   },
   "source": [
    "Visualizing top 10 keywords in train set"
   ]
  },
  {
   "cell_type": "code",
   "execution_count": 17,
   "metadata": {
    "_cell_guid": "0bddf671-8c5f-4da0-be79-1fab38bc9371",
    "_uuid": "6f3ae763-173c-4129-94fb-7dab9a046c85"
   },
   "outputs": [
    {
     "data": {
      "text/plain": [
       "Text(0.5, 1.0, 'Top 10 keywords in train set')"
      ]
     },
     "execution_count": 17,
     "metadata": {},
     "output_type": "execute_result"
    },
    {
     "data": {
      "image/png": "[encoded data removed]",
      "text/plain": [
       "<Figure size 432x288 with 1 Axes>"
      ]
     },
     "metadata": {
      "needs_background": "light"
     },
     "output_type": "display_data"
    }
   ],
   "source": [
    "sns.barplot(y = c.index[0:11], x = c.iloc[0:11], orient = 'h')\n",
    "plt.title(\"Top 10 keywords in train set\")"
   ]
  },
  {
   "cell_type": "code",
   "execution_count": 18,
   "metadata": {
    "_cell_guid": "2dafba1c-c83c-4dee-89a1-a5ae23cbd902",
    "_uuid": "d9430093-2d65-43f5-93fc-71d2a47191d1"
   },
   "outputs": [
    {
     "data": {
      "text/plain": [
       "Text(0.5, 1.0, 'Top 10 keywords in normal tweets')"
      ]
     },
     "execution_count": 18,
     "metadata": {},
     "output_type": "execute_result"
    },
    {
     "data": {
      "image/png": "[encoded data removed]",
      "text/plain": [
       "<Figure size 1080x432 with 2 Axes>"
      ]
     },
     "metadata": {
      "needs_background": "light"
     },
     "output_type": "display_data"
    }
   ],
   "source": [
    "### Identifying top 10 keywords for disaster and non-disaster tweets ###\n",
    "disaster = train.loc[train.target == 1]\n",
    "top_d = disaster['keyword'].value_counts()\n",
    "normal = train.loc[train.target == 0]\n",
    "top_n = normal['keyword'].value_counts()\n",
    "fig = plt.figure(figsize = (15,6))\n",
    "ax1 = fig.add_subplot(1,2,1)\n",
    "ax2 = fig.add_subplot(1,2,2)\n",
    "sns.barplot(y = top_d.index[0:11], x = top_d.iloc[0:11], ax = ax1, orient ='h' , color = 'red')\n",
    "ax1.set_title(\"Top 10 keywords in disaster tweets\")\n",
    "sns.barplot(y = top_n.index[0:11], x = top_n.iloc[0:11], ax = ax2, orient ='h', color = 'pink' )\n",
    "ax2.set_title(\"Top 10 keywords in normal tweets\")"
   ]
  },
  {
   "cell_type": "markdown",
   "metadata": {
    "_cell_guid": "7f4a3ff6-566b-4f29-962a-0d5a01c4cf6e",
    "_uuid": "ee51b69d-1b3d-4bfc-9751-34f2ef12aeb6"
   },
   "source": [
    "## Number of characters in tweets"
   ]
  },
  {
   "cell_type": "code",
   "execution_count": 19,
   "metadata": {
    "_cell_guid": "36dfd355-96a8-4d53-a799-5b45dda8eb1c",
    "_uuid": "20cb18e9-6498-4b38-8f55-ea27a44e8ae1"
   },
   "outputs": [
    {
     "data": {
      "text/plain": [
       "(3271, 5)"
      ]
     },
     "execution_count": 19,
     "metadata": {},
     "output_type": "execute_result"
    }
   ],
   "source": [
    "disaster.shape"
   ]
  },
  {
   "cell_type": "code",
   "execution_count": 20,
   "metadata": {
    "_cell_guid": "361efc28-8085-4482-8f81-74ef3e1a573f",
    "_uuid": "f8cfe674-c718-41cc-acf5-d77097ca4057"
   },
   "outputs": [
    {
     "data": {
      "text/plain": [
       "Text(0.5, 1.0, 'Char in normal tweets')"
      ]
     },
     "execution_count": 20,
     "metadata": {},
     "output_type": "execute_result"
    },
    {
     "data": {
      "image/png": "[encoded data removed]",
      "text/plain": [
       "<Figure size 864x432 with 2 Axes>"
      ]
     },
     "metadata": {
      "needs_background": "light"
     },
     "output_type": "display_data"
    }
   ],
   "source": [
    "tweet_char_d = disaster.text.str.len()\n",
    "tweet_char_d.sort_values(ascending = False)\n",
    "tweet_char_n = normal.text.str.len()\n",
    "fig = plt.figure(figsize = (12,6))\n",
    "ax1 = fig.add_subplot(1,2,1)\n",
    "ax2 = fig.add_subplot(1,2,2)\n",
    "ax1.hist(tweet_char_d, color = 'red')\n",
    "ax1.set_title(\"Char in disaster tweets\")\n",
    "ax2.hist(tweet_char_n, color = 'pink')\n",
    "ax2.set_title(\"Char in normal tweets\")"
   ]
  },
  {
   "cell_type": "markdown",
   "metadata": {
    "_cell_guid": "4eba32a8-54be-4ce1-994c-0be9a67e3b07",
    "_uuid": "391a3f91-6f7f-402a-9657-81cb33148e08"
   },
   "source": [
    "<a id=\"section-three\"></a>\n",
    "# 3. Preprocessing"
   ]
  },
  {
   "cell_type": "code",
   "execution_count": 21,
   "metadata": {
    "_cell_guid": "c7141ca2-6ecc-405e-97b2-cce4de655bd6",
    "_uuid": "44998dcb-2de5-4cbd-8587-9fd0d628f3b2"
   },
   "outputs": [
    {
     "data": {
      "text/plain": [
       "'!\"#$%&\\'()*+,-./:;<=>?@[\\\\]^_`{|}~'"
      ]
     },
     "execution_count": 21,
     "metadata": {},
     "output_type": "execute_result"
    }
   ],
   "source": [
    "string.punctuation"
   ]
  },
  {
   "cell_type": "code",
   "execution_count": 22,
   "metadata": {
    "_cell_guid": "2d35f101-8dcd-4786-a37b-8bda737cbb1b",
    "_uuid": "bdcde831-0d40-4541-9ac9-7826c6e2652a"
   },
   "outputs": [
    {
     "data": {
      "text/plain": [
       "str"
      ]
     },
     "execution_count": 22,
     "metadata": {},
     "output_type": "execute_result"
    }
   ],
   "source": [
    "type(string.punctuation)"
   ]
  },
  {
   "cell_type": "code",
   "execution_count": 23,
   "metadata": {
    "_cell_guid": "0aead5db-01d1-4ae0-8185-08f4c2a55686",
    "_uuid": "60e05281-72b7-498d-8163-04c0594eb648"
   },
   "outputs": [
    {
     "data": {
      "text/plain": [
       "0    our deeds are the reason of this earthquake ma...\n",
       "1                forest fire near la ronge sask canada\n",
       "2    all residents asked to shelter in place are be...\n",
       "3    13000 people receive wildfires evacuation orde...\n",
       "4    just got sent this photo from ruby alaska as s...\n",
       "5    rockyfire update  california hwy 20 closed in ...\n",
       "6    flood disaster heavy rain causes flash floodin...\n",
       "7    im on top of the hill and i can see a fire in ...\n",
       "8    theres an emergency evacuation happening now i...\n",
       "9     im afraid that the tornado is coming to our area\n",
       "Name: text, dtype: object"
      ]
     },
     "execution_count": 23,
     "metadata": {},
     "output_type": "execute_result"
    }
   ],
   "source": [
    "def preprocess(element):\n",
    "    \n",
    "    ### convert all to lowercase ###\n",
    "    element = element.lower()\n",
    "    \n",
    "    ### get rid of punctuation ###\n",
    "    element = element.translate({ord(i): None for i in string.punctuation})\n",
    "        \n",
    "    \n",
    "    ### get rid of weblinks ###\n",
    "    element = re.sub('https?://\\S+|www\\.\\S+', '', element)\n",
    "    \n",
    "    return element\n",
    "\n",
    "\n",
    "train['text'] = train.text.map(preprocess)\n",
    "test['text'] = test.text.map(preprocess)\n",
    "train['text'].head(10)"
   ]
  },
  {
   "cell_type": "markdown",
   "metadata": {
    "_cell_guid": "c05ca758-35fc-4b95-91e7-ed327ec0ae3d",
    "_uuid": "98ce94f8-97a5-4535-9818-cb7bf7f6e934"
   },
   "source": [
    "<a id=\"section-four\"></a>\n",
    "# 4. Wordcloud"
   ]
  },
  {
   "cell_type": "code",
   "execution_count": 24,
   "metadata": {
    "_cell_guid": "a208c9e6-3bb7-43f7-a915-28e3d564363a",
    "_uuid": "7139e958-cc79-496a-b73e-6f44af9245ff"
   },
   "outputs": [
    {
     "data": {
      "text/plain": [
       "(-0.5, 599.5, 499.5, -0.5)"
      ]
     },
     "execution_count": 24,
     "metadata": {},
     "output_type": "execute_result"
    },
    {
     "data": {
      "image/png": "[encoded data removed]",
      "text/plain": [
       "<Figure size 864x432 with 2 Axes>"
      ]
     },
     "metadata": {
      "needs_background": "light"
     },
     "output_type": "display_data"
    }
   ],
   "source": [
    "fig = plt.figure(figsize = (12,6))\n",
    "ax1 = fig.add_subplot(1,2,1)\n",
    "ax2 = fig.add_subplot(1,2,2)\n",
    "wc1 = WordCloud(background_color='white',width=  600,\n",
    "                        height=500).generate(\" \".join(disaster.text))\n",
    "ax1.imshow(wc1)\n",
    "ax1.set_title(\"Disaster tweets\")\n",
    "ax1.axis('off')\n",
    "wc2 = WordCloud(background_color='white',width=600,\n",
    "                        height=500).generate(\" \".join(normal.text))\n",
    "ax2.imshow(wc2)\n",
    "ax2.set_title(\"Normal tweets\")\n",
    "ax2.axis('off')"
   ]
  },
  {
   "cell_type": "markdown",
   "metadata": {
    "_cell_guid": "d1c1d2c6-dae7-4d5e-9a9f-71a3042c9701",
    "_uuid": "44e44c5f-a32f-412a-82e4-474e6833b3c9"
   },
   "source": [
    "## Tokenization"
   ]
  },
  {
   "cell_type": "code",
   "execution_count": 25,
   "metadata": {
    "_cell_guid": "4ff0e428-a119-4152-b954-dd89e20ef2b0",
    "_uuid": "c52eea69-9853-4282-b42a-d55fdf5caeb4"
   },
   "outputs": [
    {
     "data": {
      "text/plain": [
       "0    [our, deeds, are, the, reason, of, this, earth...\n",
       "1        [forest, fire, near, la, ronge, sask, canada]\n",
       "2    [all, residents, asked, to, shelter, in, place...\n",
       "3    [13000, people, receive, wildfires, evacuation...\n",
       "4    [just, got, sent, this, photo, from, ruby, ala...\n",
       "Name: text, dtype: object"
      ]
     },
     "execution_count": 25,
     "metadata": {},
     "output_type": "execute_result"
    }
   ],
   "source": [
    "\n",
    "tokenizer = nltk.tokenize.RegexpTokenizer(r'\\w+')\n",
    "train['text'] = train['text'].map(lambda x: tokenizer.tokenize(x))\n",
    "test['text'] = test['text'].map(lambda x: tokenizer.tokenize(x))\n",
    "train['text'].head()"
   ]
  },
  {
   "cell_type": "code",
   "execution_count": 26,
   "metadata": {
    "_cell_guid": "6dd4148d-c004-402f-85c3-ebea36dd2721",
    "_uuid": "5ec28551-172a-4dfb-826d-282c729bd24f"
   },
   "outputs": [
    {
     "name": "stdout",
     "output_type": "stream",
     "text": [
      "['i', 'me', 'my', 'myself', 'we', 'our', 'ours', 'ourselves', 'you', \"you're\", \"you've\", \"you'll\", \"you'd\", 'your', 'yours', 'yourself', 'yourselves', 'he', 'him', 'his', 'himself', 'she', \"she's\", 'her', 'hers', 'herself', 'it', \"it's\", 'its', 'itself', 'they', 'them', 'their', 'theirs', 'themselves', 'what', 'which', 'who', 'whom', 'this', 'that', \"that'll\", 'these', 'those', 'am', 'is', 'are', 'was', 'were', 'be', 'been', 'being', 'have', 'has', 'had', 'having', 'do', 'does', 'did', 'doing', 'a', 'an', 'the', 'and', 'but', 'if', 'or', 'because', 'as', 'until', 'while', 'of', 'at', 'by', 'for', 'with', 'about', 'against', 'between', 'into', 'through', 'during', 'before', 'after', 'above', 'below', 'to', 'from', 'up', 'down', 'in', 'out', 'on', 'off', 'over', 'under', 'again', 'further', 'then', 'once', 'here', 'there', 'when', 'where', 'why', 'how', 'all', 'any', 'both', 'each', 'few', 'more', 'most', 'other', 'some', 'such', 'no', 'nor', 'not', 'only', 'own', 'same', 'so', 'than', 'too', 'very', 's', 't', 'can', 'will', 'just', 'don', \"don't\", 'should', \"should've\", 'now', 'd', 'll', 'm', 'o', 're', 've', 'y', 'ain', 'aren', \"aren't\", 'couldn', \"couldn't\", 'didn', \"didn't\", 'doesn', \"doesn't\", 'hadn', \"hadn't\", 'hasn', \"hasn't\", 'haven', \"haven't\", 'isn', \"isn't\", 'ma', 'mightn', \"mightn't\", 'mustn', \"mustn't\", 'needn', \"needn't\", 'shan', \"shan't\", 'shouldn', \"shouldn't\", 'wasn', \"wasn't\", 'weren', \"weren't\", 'won', \"won't\", 'wouldn', \"wouldn't\"]\n"
     ]
    }
   ],
   "source": [
    "print(stopwords.words('english'))"
   ]
  },
  {
   "cell_type": "markdown",
   "metadata": {
    "_cell_guid": "eccfd844-c371-40b9-958e-442c8700e7da",
    "_uuid": "5e542df5-6dde-4c35-8503-a16a0269e73f"
   },
   "source": [
    "## Getting rid of stopwords"
   ]
  },
  {
   "cell_type": "code",
   "execution_count": 27,
   "metadata": {
    "_cell_guid": "5ebd2b69-99c3-4f57-a544-7d76d0239885",
    "_uuid": "b513fda1-4cff-4f3d-bedb-09a2db035d17"
   },
   "outputs": [
    {
     "data": {
      "text/html": [
       "<div>\n",
       "<style scoped>\n",
       "    .dataframe tbody tr th:only-of-type {\n",
       "        vertical-align: middle;\n",
       "    }\n",
       "\n",
       "    .dataframe tbody tr th {\n",
       "        vertical-align: top;\n",
       "    }\n",
       "\n",
       "    .dataframe thead th {\n",
       "        text-align: right;\n",
       "    }\n",
       "</style>\n",
       "<table border=\"1\" class=\"dataframe\">\n",
       "  <thead>\n",
       "    <tr style=\"text-align: right;\">\n",
       "      <th></th>\n",
       "      <th>id</th>\n",
       "      <th>keyword</th>\n",
       "      <th>location</th>\n",
       "      <th>text</th>\n",
       "      <th>target</th>\n",
       "    </tr>\n",
       "  </thead>\n",
       "  <tbody>\n",
       "    <tr>\n",
       "      <th>0</th>\n",
       "      <td>1</td>\n",
       "      <td>NaN</td>\n",
       "      <td>NaN</td>\n",
       "      <td>[deeds, reason, earthquake, may, allah, forgiv...</td>\n",
       "      <td>1</td>\n",
       "    </tr>\n",
       "    <tr>\n",
       "      <th>1</th>\n",
       "      <td>4</td>\n",
       "      <td>NaN</td>\n",
       "      <td>NaN</td>\n",
       "      <td>[forest, fire, near, la, ronge, sask, canada]</td>\n",
       "      <td>1</td>\n",
       "    </tr>\n",
       "    <tr>\n",
       "      <th>2</th>\n",
       "      <td>5</td>\n",
       "      <td>NaN</td>\n",
       "      <td>NaN</td>\n",
       "      <td>[residents, asked, shelter, place, notified, o...</td>\n",
       "      <td>1</td>\n",
       "    </tr>\n",
       "    <tr>\n",
       "      <th>3</th>\n",
       "      <td>6</td>\n",
       "      <td>NaN</td>\n",
       "      <td>NaN</td>\n",
       "      <td>[13000, people, receive, wildfires, evacuation...</td>\n",
       "      <td>1</td>\n",
       "    </tr>\n",
       "    <tr>\n",
       "      <th>4</th>\n",
       "      <td>7</td>\n",
       "      <td>NaN</td>\n",
       "      <td>NaN</td>\n",
       "      <td>[got, sent, photo, ruby, alaska, smoke, wildfi...</td>\n",
       "      <td>1</td>\n",
       "    </tr>\n",
       "  </tbody>\n",
       "</table>\n",
       "</div>"
      ],
      "text/plain": [
       "   id keyword location                                               text  \\\n",
       "0   1     NaN      NaN  [deeds, reason, earthquake, may, allah, forgiv...   \n",
       "1   4     NaN      NaN      [forest, fire, near, la, ronge, sask, canada]   \n",
       "2   5     NaN      NaN  [residents, asked, shelter, place, notified, o...   \n",
       "3   6     NaN      NaN  [13000, people, receive, wildfires, evacuation...   \n",
       "4   7     NaN      NaN  [got, sent, photo, ruby, alaska, smoke, wildfi...   \n",
       "\n",
       "   target  \n",
       "0       1  \n",
       "1       1  \n",
       "2       1  \n",
       "3       1  \n",
       "4       1  "
      ]
     },
     "execution_count": 27,
     "metadata": {},
     "output_type": "execute_result"
    }
   ],
   "source": [
    "def stopwords_remove(text):\n",
    "         words = [i for i in text if i not in stopwords.words('english')]\n",
    "         return words\n",
    "train.text = train.text.map(stopwords_remove)\n",
    "test.text = test.text.map(stopwords_remove)\n",
    "train.head()"
   ]
  },
  {
   "cell_type": "code",
   "execution_count": 28,
   "metadata": {
    "_cell_guid": "806f33ef-c250-4743-8f92-cdf2bb177d13",
    "_uuid": "fd0ffe3d-18c1-47f2-a08b-df7b9e276ccb"
   },
   "outputs": [
    {
     "data": {
      "text/html": [
       "<div>\n",
       "<style scoped>\n",
       "    .dataframe tbody tr th:only-of-type {\n",
       "        vertical-align: middle;\n",
       "    }\n",
       "\n",
       "    .dataframe tbody tr th {\n",
       "        vertical-align: top;\n",
       "    }\n",
       "\n",
       "    .dataframe thead th {\n",
       "        text-align: right;\n",
       "    }\n",
       "</style>\n",
       "<table border=\"1\" class=\"dataframe\">\n",
       "  <thead>\n",
       "    <tr style=\"text-align: right;\">\n",
       "      <th></th>\n",
       "      <th>id</th>\n",
       "      <th>keyword</th>\n",
       "      <th>location</th>\n",
       "      <th>text</th>\n",
       "      <th>target</th>\n",
       "    </tr>\n",
       "  </thead>\n",
       "  <tbody>\n",
       "    <tr>\n",
       "      <th>0</th>\n",
       "      <td>1</td>\n",
       "      <td>NaN</td>\n",
       "      <td>NaN</td>\n",
       "      <td>deeds reason earthquake may allah forgive us</td>\n",
       "      <td>1</td>\n",
       "    </tr>\n",
       "    <tr>\n",
       "      <th>1</th>\n",
       "      <td>4</td>\n",
       "      <td>NaN</td>\n",
       "      <td>NaN</td>\n",
       "      <td>forest fire near la ronge sask canada</td>\n",
       "      <td>1</td>\n",
       "    </tr>\n",
       "    <tr>\n",
       "      <th>2</th>\n",
       "      <td>5</td>\n",
       "      <td>NaN</td>\n",
       "      <td>NaN</td>\n",
       "      <td>residents asked shelter place notified officer...</td>\n",
       "      <td>1</td>\n",
       "    </tr>\n",
       "    <tr>\n",
       "      <th>3</th>\n",
       "      <td>6</td>\n",
       "      <td>NaN</td>\n",
       "      <td>NaN</td>\n",
       "      <td>13000 people receive wildfires evacuation orde...</td>\n",
       "      <td>1</td>\n",
       "    </tr>\n",
       "    <tr>\n",
       "      <th>4</th>\n",
       "      <td>7</td>\n",
       "      <td>NaN</td>\n",
       "      <td>NaN</td>\n",
       "      <td>got sent photo ruby alaska smoke wildfires pou...</td>\n",
       "      <td>1</td>\n",
       "    </tr>\n",
       "  </tbody>\n",
       "</table>\n",
       "</div>"
      ],
      "text/plain": [
       "   id keyword location                                               text  \\\n",
       "0   1     NaN      NaN       deeds reason earthquake may allah forgive us   \n",
       "1   4     NaN      NaN              forest fire near la ronge sask canada   \n",
       "2   5     NaN      NaN  residents asked shelter place notified officer...   \n",
       "3   6     NaN      NaN  13000 people receive wildfires evacuation orde...   \n",
       "4   7     NaN      NaN  got sent photo ruby alaska smoke wildfires pou...   \n",
       "\n",
       "   target  \n",
       "0       1  \n",
       "1       1  \n",
       "2       1  \n",
       "3       1  \n",
       "4       1  "
      ]
     },
     "execution_count": 28,
     "metadata": {},
     "output_type": "execute_result"
    }
   ],
   "source": [
    "### combining list of strings ###\n",
    "\n",
    "def combine(text_list):\n",
    "    joined_text = ' '.join(text_list)\n",
    "    return joined_text\n",
    "\n",
    "train['text'] = train['text'].map(combine)\n",
    "test['text'] = test['text'].map(combine)\n",
    "train.head()"
   ]
  },
  {
   "cell_type": "markdown",
   "metadata": {
    "_cell_guid": "423fb4c9-51d5-4abb-a0fa-e2cbf646b0c4",
    "_uuid": "4982c680-d8a5-4230-8c55-8e1e76a6aeac"
   },
   "source": [
    "<a id=\"section-five\"></a>\n",
    "# 5. Journey from tokens to vector"
   ]
  },
  {
   "cell_type": "code",
   "execution_count": 29,
   "metadata": {
    "_cell_guid": "f67c0947-35d6-45a1-8d66-853536aad386",
    "_uuid": "d2bcf6e0-3d6c-4ed5-a77e-3d913afc634a"
   },
   "outputs": [],
   "source": [
    "### Using CountVectorizer ###\n",
    "\n",
    "countvec = CountVectorizer()\n",
    "train_vec = countvec.fit_transform(train['text'])\n",
    "test_vec = countvec.transform(test[\"text\"])"
   ]
  },
  {
   "cell_type": "code",
   "execution_count": 30,
   "metadata": {
    "_cell_guid": "973fa0c2-c204-4605-b94d-0790493a2ab0",
    "_uuid": "94e25249-2a0a-48da-88f7-15db2f038210"
   },
   "outputs": [],
   "source": [
    "### TFIDF ###\n",
    "\n",
    "tfidf = TfidfVectorizer(min_df=2, max_df=0.5, ngram_range=(1, 2))\n",
    "train_tfidf = tfidf.fit_transform(train['text'])\n",
    "test_tfidf = tfidf.transform(test[\"text\"])"
   ]
  },
  {
   "cell_type": "code",
   "execution_count": 31,
   "metadata": {
    "_cell_guid": "9a19a29b-07b5-4f98-a483-c0c29c7350df",
    "_uuid": "75f022b7-f7c2-42f1-9fb5-11af9aff9728"
   },
   "outputs": [
    {
     "data": {
      "text/plain": [
       "<3263x11714 sparse matrix of type '<class 'numpy.float64'>'\n",
       "\twith 29294 stored elements in Compressed Sparse Row format>"
      ]
     },
     "execution_count": 31,
     "metadata": {},
     "output_type": "execute_result"
    }
   ],
   "source": [
    "test_tfidf"
   ]
  },
  {
   "cell_type": "markdown",
   "metadata": {
    "_cell_guid": "7e15435c-724a-4f20-896b-f929ceb6fce8",
    "_uuid": "0a9de5e0-adb4-4d03-84c7-e162c318b82a"
   },
   "source": [
    "<a id=\"section-six\"></a>\n",
    "# 6. Text Classification models"
   ]
  },
  {
   "cell_type": "markdown",
   "metadata": {
    "_cell_guid": "9458d899-d49e-477e-ae40-f90effafe303",
    "_uuid": "92c16f59-5e2f-41c3-ae0d-7e62550a3c2e"
   },
   "source": [
    "## 1. Logistic Regression"
   ]
  },
  {
   "cell_type": "code",
   "execution_count": 32,
   "metadata": {
    "_cell_guid": "cae67387-c099-4257-9ba5-c7ec18eba92c",
    "_uuid": "3f7b28e0-92fd-49ad-9161-77fa116b89ce"
   },
   "outputs": [
    {
     "name": "stderr",
     "output_type": "stream",
     "text": [
      "/opt/conda/lib/python3.6/site-packages/sklearn/linear_model/_logistic.py:940: ConvergenceWarning: lbfgs failed to converge (status=1):\n",
      "STOP: TOTAL NO. of ITERATIONS REACHED LIMIT.\n",
      "\n",
      "Increase the number of iterations (max_iter) or scale the data as shown in:\n",
      "    https://scikit-learn.org/stable/modules/preprocessing.html\n",
      "Please also refer to the documentation for alternative solver options:\n",
      "    https://scikit-learn.org/stable/modules/linear_model.html#logistic-regression\n",
      "  extra_warning_msg=_LOGISTIC_SOLVER_CONVERGENCE_MSG)\n",
      "/opt/conda/lib/python3.6/site-packages/sklearn/linear_model/_logistic.py:940: ConvergenceWarning: lbfgs failed to converge (status=1):\n",
      "STOP: TOTAL NO. of ITERATIONS REACHED LIMIT.\n",
      "\n",
      "Increase the number of iterations (max_iter) or scale the data as shown in:\n",
      "    https://scikit-learn.org/stable/modules/preprocessing.html\n",
      "Please also refer to the documentation for alternative solver options:\n",
      "    https://scikit-learn.org/stable/modules/linear_model.html#logistic-regression\n",
      "  extra_warning_msg=_LOGISTIC_SOLVER_CONVERGENCE_MSG)\n",
      "/opt/conda/lib/python3.6/site-packages/sklearn/linear_model/_logistic.py:940: ConvergenceWarning: lbfgs failed to converge (status=1):\n",
      "STOP: TOTAL NO. of ITERATIONS REACHED LIMIT.\n",
      "\n",
      "Increase the number of iterations (max_iter) or scale the data as shown in:\n",
      "    https://scikit-learn.org/stable/modules/preprocessing.html\n",
      "Please also refer to the documentation for alternative solver options:\n",
      "    https://scikit-learn.org/stable/modules/linear_model.html#logistic-regression\n",
      "  extra_warning_msg=_LOGISTIC_SOLVER_CONVERGENCE_MSG)\n",
      "/opt/conda/lib/python3.6/site-packages/sklearn/linear_model/_logistic.py:940: ConvergenceWarning: lbfgs failed to converge (status=1):\n",
      "STOP: TOTAL NO. of ITERATIONS REACHED LIMIT.\n",
      "\n",
      "Increase the number of iterations (max_iter) or scale the data as shown in:\n",
      "    https://scikit-learn.org/stable/modules/preprocessing.html\n",
      "Please also refer to the documentation for alternative solver options:\n",
      "    https://scikit-learn.org/stable/modules/linear_model.html#logistic-regression\n",
      "  extra_warning_msg=_LOGISTIC_SOLVER_CONVERGENCE_MSG)\n",
      "/opt/conda/lib/python3.6/site-packages/sklearn/linear_model/_logistic.py:940: ConvergenceWarning: lbfgs failed to converge (status=1):\n",
      "STOP: TOTAL NO. of ITERATIONS REACHED LIMIT.\n",
      "\n",
      "Increase the number of iterations (max_iter) or scale the data as shown in:\n",
      "    https://scikit-learn.org/stable/modules/preprocessing.html\n",
      "Please also refer to the documentation for alternative solver options:\n",
      "    https://scikit-learn.org/stable/modules/linear_model.html#logistic-regression\n",
      "  extra_warning_msg=_LOGISTIC_SOLVER_CONVERGENCE_MSG)\n",
      "/opt/conda/lib/python3.6/site-packages/sklearn/linear_model/_logistic.py:940: ConvergenceWarning: lbfgs failed to converge (status=1):\n",
      "STOP: TOTAL NO. of ITERATIONS REACHED LIMIT.\n",
      "\n",
      "Increase the number of iterations (max_iter) or scale the data as shown in:\n",
      "    https://scikit-learn.org/stable/modules/preprocessing.html\n",
      "Please also refer to the documentation for alternative solver options:\n",
      "    https://scikit-learn.org/stable/modules/linear_model.html#logistic-regression\n",
      "  extra_warning_msg=_LOGISTIC_SOLVER_CONVERGENCE_MSG)\n",
      "/opt/conda/lib/python3.6/site-packages/sklearn/linear_model/_logistic.py:940: ConvergenceWarning: lbfgs failed to converge (status=1):\n",
      "STOP: TOTAL NO. of ITERATIONS REACHED LIMIT.\n",
      "\n",
      "Increase the number of iterations (max_iter) or scale the data as shown in:\n",
      "    https://scikit-learn.org/stable/modules/preprocessing.html\n",
      "Please also refer to the documentation for alternative solver options:\n",
      "    https://scikit-learn.org/stable/modules/linear_model.html#logistic-regression\n",
      "  extra_warning_msg=_LOGISTIC_SOLVER_CONVERGENCE_MSG)\n",
      "/opt/conda/lib/python3.6/site-packages/sklearn/linear_model/_logistic.py:940: ConvergenceWarning: lbfgs failed to converge (status=1):\n",
      "STOP: TOTAL NO. of ITERATIONS REACHED LIMIT.\n",
      "\n",
      "Increase the number of iterations (max_iter) or scale the data as shown in:\n",
      "    https://scikit-learn.org/stable/modules/preprocessing.html\n",
      "Please also refer to the documentation for alternative solver options:\n",
      "    https://scikit-learn.org/stable/modules/linear_model.html#logistic-regression\n",
      "  extra_warning_msg=_LOGISTIC_SOLVER_CONVERGENCE_MSG)\n",
      "/opt/conda/lib/python3.6/site-packages/sklearn/linear_model/_logistic.py:940: ConvergenceWarning: lbfgs failed to converge (status=1):\n",
      "STOP: TOTAL NO. of ITERATIONS REACHED LIMIT.\n",
      "\n",
      "Increase the number of iterations (max_iter) or scale the data as shown in:\n",
      "    https://scikit-learn.org/stable/modules/preprocessing.html\n",
      "Please also refer to the documentation for alternative solver options:\n",
      "    https://scikit-learn.org/stable/modules/linear_model.html#logistic-regression\n",
      "  extra_warning_msg=_LOGISTIC_SOLVER_CONVERGENCE_MSG)\n",
      "/opt/conda/lib/python3.6/site-packages/sklearn/linear_model/_logistic.py:940: ConvergenceWarning: lbfgs failed to converge (status=1):\n",
      "STOP: TOTAL NO. of ITERATIONS REACHED LIMIT.\n",
      "\n",
      "Increase the number of iterations (max_iter) or scale the data as shown in:\n",
      "    https://scikit-learn.org/stable/modules/preprocessing.html\n",
      "Please also refer to the documentation for alternative solver options:\n",
      "    https://scikit-learn.org/stable/modules/linear_model.html#logistic-regression\n",
      "  extra_warning_msg=_LOGISTIC_SOLVER_CONVERGENCE_MSG)\n"
     ]
    },
    {
     "name": "stdout",
     "output_type": "stream",
     "text": [
      "Pipeline(memory=None,\n",
      "         steps=[('classification',\n",
      "                 LogisticRegression(C=1, class_weight=None, dual=False,\n",
      "                                    fit_intercept=True, intercept_scaling=1,\n",
      "                                    l1_ratio=None, max_iter=100,\n",
      "                                    multi_class='auto', n_jobs=None,\n",
      "                                    penalty='l2', random_state=42,\n",
      "                                    solver='lbfgs', tol=0.0001, verbose=0,\n",
      "                                    warm_start=False))],\n",
      "         verbose=False)\n"
     ]
    },
    {
     "data": {
      "text/html": [
       "<div>\n",
       "<style scoped>\n",
       "    .dataframe tbody tr th:only-of-type {\n",
       "        vertical-align: middle;\n",
       "    }\n",
       "\n",
       "    .dataframe tbody tr th {\n",
       "        vertical-align: top;\n",
       "    }\n",
       "\n",
       "    .dataframe thead th {\n",
       "        text-align: right;\n",
       "    }\n",
       "</style>\n",
       "<table border=\"1\" class=\"dataframe\">\n",
       "  <thead>\n",
       "    <tr style=\"text-align: right;\">\n",
       "      <th></th>\n",
       "      <th>mean_fit_time</th>\n",
       "      <th>std_fit_time</th>\n",
       "      <th>mean_score_time</th>\n",
       "      <th>std_score_time</th>\n",
       "      <th>param_classification__C</th>\n",
       "      <th>params</th>\n",
       "      <th>split0_test_score</th>\n",
       "      <th>split1_test_score</th>\n",
       "      <th>split2_test_score</th>\n",
       "      <th>split3_test_score</th>\n",
       "      <th>split4_test_score</th>\n",
       "      <th>mean_test_score</th>\n",
       "      <th>std_test_score</th>\n",
       "      <th>rank_test_score</th>\n",
       "    </tr>\n",
       "  </thead>\n",
       "  <tbody>\n",
       "    <tr>\n",
       "      <th>0</th>\n",
       "      <td>0.084755</td>\n",
       "      <td>0.021919</td>\n",
       "      <td>0.003477</td>\n",
       "      <td>0.000195</td>\n",
       "      <td>0.001</td>\n",
       "      <td>{'classification__C': 0.001}</td>\n",
       "      <td>0.000000</td>\n",
       "      <td>0.000000</td>\n",
       "      <td>0.000000</td>\n",
       "      <td>0.000000</td>\n",
       "      <td>0.000000</td>\n",
       "      <td>0.000000</td>\n",
       "      <td>0.000000</td>\n",
       "      <td>6</td>\n",
       "    </tr>\n",
       "    <tr>\n",
       "      <th>1</th>\n",
       "      <td>0.088896</td>\n",
       "      <td>0.008553</td>\n",
       "      <td>0.003398</td>\n",
       "      <td>0.000062</td>\n",
       "      <td>0.01</td>\n",
       "      <td>{'classification__C': 0.01}</td>\n",
       "      <td>0.337136</td>\n",
       "      <td>0.332075</td>\n",
       "      <td>0.286783</td>\n",
       "      <td>0.233161</td>\n",
       "      <td>0.467742</td>\n",
       "      <td>0.331379</td>\n",
       "      <td>0.077800</td>\n",
       "      <td>5</td>\n",
       "    </tr>\n",
       "    <tr>\n",
       "      <th>2</th>\n",
       "      <td>0.198818</td>\n",
       "      <td>0.055363</td>\n",
       "      <td>0.003612</td>\n",
       "      <td>0.000063</td>\n",
       "      <td>0.1</td>\n",
       "      <td>{'classification__C': 0.1}</td>\n",
       "      <td>0.568750</td>\n",
       "      <td>0.490272</td>\n",
       "      <td>0.538462</td>\n",
       "      <td>0.519348</td>\n",
       "      <td>0.672630</td>\n",
       "      <td>0.557892</td>\n",
       "      <td>0.062798</td>\n",
       "      <td>3</td>\n",
       "    </tr>\n",
       "    <tr>\n",
       "      <th>3</th>\n",
       "      <td>0.371479</td>\n",
       "      <td>0.032768</td>\n",
       "      <td>0.003593</td>\n",
       "      <td>0.000051</td>\n",
       "      <td>1</td>\n",
       "      <td>{'classification__C': 1}</td>\n",
       "      <td>0.598077</td>\n",
       "      <td>0.488616</td>\n",
       "      <td>0.565401</td>\n",
       "      <td>0.550615</td>\n",
       "      <td>0.672104</td>\n",
       "      <td>0.574963</td>\n",
       "      <td>0.060184</td>\n",
       "      <td>1</td>\n",
       "    </tr>\n",
       "    <tr>\n",
       "      <th>4</th>\n",
       "      <td>0.535764</td>\n",
       "      <td>0.015631</td>\n",
       "      <td>0.003552</td>\n",
       "      <td>0.000101</td>\n",
       "      <td>10</td>\n",
       "      <td>{'classification__C': 10}</td>\n",
       "      <td>0.602612</td>\n",
       "      <td>0.482818</td>\n",
       "      <td>0.556465</td>\n",
       "      <td>0.491525</td>\n",
       "      <td>0.659761</td>\n",
       "      <td>0.558636</td>\n",
       "      <td>0.066958</td>\n",
       "      <td>2</td>\n",
       "    </tr>\n",
       "    <tr>\n",
       "      <th>5</th>\n",
       "      <td>0.583281</td>\n",
       "      <td>0.082621</td>\n",
       "      <td>0.003581</td>\n",
       "      <td>0.000116</td>\n",
       "      <td>100</td>\n",
       "      <td>{'classification__C': 100}</td>\n",
       "      <td>0.600739</td>\n",
       "      <td>0.483404</td>\n",
       "      <td>0.554828</td>\n",
       "      <td>0.481132</td>\n",
       "      <td>0.664025</td>\n",
       "      <td>0.556826</td>\n",
       "      <td>0.070063</td>\n",
       "      <td>4</td>\n",
       "    </tr>\n",
       "  </tbody>\n",
       "</table>\n",
       "</div>"
      ],
      "text/plain": [
       "   mean_fit_time  std_fit_time  mean_score_time  std_score_time  \\\n",
       "0       0.084755      0.021919         0.003477        0.000195   \n",
       "1       0.088896      0.008553         0.003398        0.000062   \n",
       "2       0.198818      0.055363         0.003612        0.000063   \n",
       "3       0.371479      0.032768         0.003593        0.000051   \n",
       "4       0.535764      0.015631         0.003552        0.000101   \n",
       "5       0.583281      0.082621         0.003581        0.000116   \n",
       "\n",
       "  param_classification__C                        params  split0_test_score  \\\n",
       "0                   0.001  {'classification__C': 0.001}           0.000000   \n",
       "1                    0.01   {'classification__C': 0.01}           0.337136   \n",
       "2                     0.1    {'classification__C': 0.1}           0.568750   \n",
       "3                       1      {'classification__C': 1}           0.598077   \n",
       "4                      10     {'classification__C': 10}           0.602612   \n",
       "5                     100    {'classification__C': 100}           0.600739   \n",
       "\n",
       "   split1_test_score  split2_test_score  split3_test_score  split4_test_score  \\\n",
       "0           0.000000           0.000000           0.000000           0.000000   \n",
       "1           0.332075           0.286783           0.233161           0.467742   \n",
       "2           0.490272           0.538462           0.519348           0.672630   \n",
       "3           0.488616           0.565401           0.550615           0.672104   \n",
       "4           0.482818           0.556465           0.491525           0.659761   \n",
       "5           0.483404           0.554828           0.481132           0.664025   \n",
       "\n",
       "   mean_test_score  std_test_score  rank_test_score  \n",
       "0         0.000000        0.000000                6  \n",
       "1         0.331379        0.077800                5  \n",
       "2         0.557892        0.062798                3  \n",
       "3         0.574963        0.060184                1  \n",
       "4         0.558636        0.066958                2  \n",
       "5         0.556826        0.070063                4  "
      ]
     },
     "execution_count": 32,
     "metadata": {},
     "output_type": "execute_result"
    }
   ],
   "source": [
    "lr = LogisticRegression(random_state = 42)\n",
    "model = Pipeline([('classification', lr)])\n",
    "param = {'classification__C': [0.001, 0.01, 0.1,1,  10, 100]}\n",
    "grid_search_log = GridSearchCV(model, param, scoring ='f1',refit=True,  cv= 5)\n",
    "grid_search_log.fit(train_vec,train['target'])\n",
    "print(grid_search_log.best_estimator_)\n",
    "log_best = grid_search_log.best_estimator_\n",
    "resultsdf = pd.DataFrame(grid_search_log.cv_results_)\n",
    "resultsdf"
   ]
  },
  {
   "cell_type": "code",
   "execution_count": 33,
   "metadata": {
    "_cell_guid": "8c247ed2-e1c3-4fff-9e81-751130bfca56",
    "_uuid": "46bc7567-2711-40c5-bc6c-28e87c6d5760"
   },
   "outputs": [
    {
     "name": "stdout",
     "output_type": "stream",
     "text": [
      "mean test score for Logistic Regression with Counts:    mean_test_score\n",
      "3         0.574963\n"
     ]
    }
   ],
   "source": [
    "print(\"mean test score for Logistic Regression with Counts:\", resultsdf.loc[resultsdf['rank_test_score']==1, [\"mean_test_score\"]])"
   ]
  },
  {
   "cell_type": "code",
   "execution_count": 34,
   "metadata": {
    "_cell_guid": "3f913158-7672-486d-9253-43e06c6620dd",
    "_uuid": "31314371-ea60-431c-b6a3-385163cc95c0"
   },
   "outputs": [
    {
     "name": "stderr",
     "output_type": "stream",
     "text": [
      "/opt/conda/lib/python3.6/site-packages/sklearn/linear_model/_logistic.py:940: ConvergenceWarning: lbfgs failed to converge (status=1):\n",
      "STOP: TOTAL NO. of ITERATIONS REACHED LIMIT.\n",
      "\n",
      "Increase the number of iterations (max_iter) or scale the data as shown in:\n",
      "    https://scikit-learn.org/stable/modules/preprocessing.html\n",
      "Please also refer to the documentation for alternative solver options:\n",
      "    https://scikit-learn.org/stable/modules/linear_model.html#logistic-regression\n",
      "  extra_warning_msg=_LOGISTIC_SOLVER_CONVERGENCE_MSG)\n",
      "/opt/conda/lib/python3.6/site-packages/sklearn/linear_model/_logistic.py:940: ConvergenceWarning: lbfgs failed to converge (status=1):\n",
      "STOP: TOTAL NO. of ITERATIONS REACHED LIMIT.\n",
      "\n",
      "Increase the number of iterations (max_iter) or scale the data as shown in:\n",
      "    https://scikit-learn.org/stable/modules/preprocessing.html\n",
      "Please also refer to the documentation for alternative solver options:\n",
      "    https://scikit-learn.org/stable/modules/linear_model.html#logistic-regression\n",
      "  extra_warning_msg=_LOGISTIC_SOLVER_CONVERGENCE_MSG)\n",
      "/opt/conda/lib/python3.6/site-packages/sklearn/linear_model/_logistic.py:940: ConvergenceWarning: lbfgs failed to converge (status=1):\n",
      "STOP: TOTAL NO. of ITERATIONS REACHED LIMIT.\n",
      "\n",
      "Increase the number of iterations (max_iter) or scale the data as shown in:\n",
      "    https://scikit-learn.org/stable/modules/preprocessing.html\n",
      "Please also refer to the documentation for alternative solver options:\n",
      "    https://scikit-learn.org/stable/modules/linear_model.html#logistic-regression\n",
      "  extra_warning_msg=_LOGISTIC_SOLVER_CONVERGENCE_MSG)\n",
      "/opt/conda/lib/python3.6/site-packages/sklearn/linear_model/_logistic.py:940: ConvergenceWarning: lbfgs failed to converge (status=1):\n",
      "STOP: TOTAL NO. of ITERATIONS REACHED LIMIT.\n",
      "\n",
      "Increase the number of iterations (max_iter) or scale the data as shown in:\n",
      "    https://scikit-learn.org/stable/modules/preprocessing.html\n",
      "Please also refer to the documentation for alternative solver options:\n",
      "    https://scikit-learn.org/stable/modules/linear_model.html#logistic-regression\n",
      "  extra_warning_msg=_LOGISTIC_SOLVER_CONVERGENCE_MSG)\n",
      "/opt/conda/lib/python3.6/site-packages/sklearn/linear_model/_logistic.py:940: ConvergenceWarning: lbfgs failed to converge (status=1):\n",
      "STOP: TOTAL NO. of ITERATIONS REACHED LIMIT.\n",
      "\n",
      "Increase the number of iterations (max_iter) or scale the data as shown in:\n",
      "    https://scikit-learn.org/stable/modules/preprocessing.html\n",
      "Please also refer to the documentation for alternative solver options:\n",
      "    https://scikit-learn.org/stable/modules/linear_model.html#logistic-regression\n",
      "  extra_warning_msg=_LOGISTIC_SOLVER_CONVERGENCE_MSG)\n",
      "/opt/conda/lib/python3.6/site-packages/sklearn/linear_model/_logistic.py:940: ConvergenceWarning: lbfgs failed to converge (status=1):\n",
      "STOP: TOTAL NO. of ITERATIONS REACHED LIMIT.\n",
      "\n",
      "Increase the number of iterations (max_iter) or scale the data as shown in:\n",
      "    https://scikit-learn.org/stable/modules/preprocessing.html\n",
      "Please also refer to the documentation for alternative solver options:\n",
      "    https://scikit-learn.org/stable/modules/linear_model.html#logistic-regression\n",
      "  extra_warning_msg=_LOGISTIC_SOLVER_CONVERGENCE_MSG)\n"
     ]
    },
    {
     "name": "stdout",
     "output_type": "stream",
     "text": [
      "Pipeline(memory=None,\n",
      "         steps=[('classification',\n",
      "                 LogisticRegression(C=10, class_weight=None, dual=False,\n",
      "                                    fit_intercept=True, intercept_scaling=1,\n",
      "                                    l1_ratio=None, max_iter=100,\n",
      "                                    multi_class='auto', n_jobs=None,\n",
      "                                    penalty='l2', random_state=42,\n",
      "                                    solver='lbfgs', tol=0.0001, verbose=0,\n",
      "                                    warm_start=False))],\n",
      "         verbose=False)\n",
      "mean test score for Logistic Regression with TFIDF:    mean_test_score\n",
      "4         0.557423\n"
     ]
    }
   ],
   "source": [
    "lr = LogisticRegression(random_state = 42)\n",
    "model = Pipeline([('classification', lr)])\n",
    "param = {'classification__C': [0.001, 0.01, 0.1,1,  10, 100]}\n",
    "grid_search_log = GridSearchCV(model, param, scoring ='f1',refit=True,  cv= 5)\n",
    "grid_search_log.fit(train_tfidf,train['target'])\n",
    "print(grid_search_log.best_estimator_)\n",
    "log_best = grid_search_log.best_estimator_\n",
    "resultsdf = pd.DataFrame(grid_search_log.cv_results_)\n",
    "resultsdf\n",
    "print(\"mean test score for Logistic Regression with TFIDF:\", resultsdf.loc[resultsdf['rank_test_score']==1, [\"mean_test_score\"]])"
   ]
  },
  {
   "cell_type": "markdown",
   "metadata": {
    "_cell_guid": "64a4ee9a-515c-400f-9993-fbba933c7eec",
    "_uuid": "22191484-6d80-4288-b7a0-eada595ff5c3"
   },
   "source": [
    "Count vectorizer gives better performance than TFIDF with Logistic Regression"
   ]
  },
  {
   "cell_type": "markdown",
   "metadata": {
    "_cell_guid": "ffa4fa9d-776a-485e-a696-7b5f2be4891a",
    "_uuid": "8c3368d8-d754-48e7-8523-f54e9982c5b8"
   },
   "source": [
    "# 2. Naives Bayes Classifier"
   ]
  },
  {
   "cell_type": "code",
   "execution_count": 35,
   "metadata": {
    "_cell_guid": "6f76ce7d-13af-48e1-87d4-f7a8fc3e5ef4",
    "_uuid": "c9b0ce6c-1dcb-42aa-9273-28accf97cfe9"
   },
   "outputs": [
    {
     "data": {
      "text/plain": [
       "array([0.63489362, 0.60614934, 0.68493151, 0.64177919, 0.72354949])"
      ]
     },
     "execution_count": 35,
     "metadata": {},
     "output_type": "execute_result"
    }
   ],
   "source": [
    "nb = MultinomialNB()\n",
    "count_scores = cross_val_score(nb, train_vec, train[\"target\"], cv=5, scoring=\"f1\")\n",
    "count_scores"
   ]
  },
  {
   "cell_type": "code",
   "execution_count": 36,
   "metadata": {
    "_cell_guid": "309fa9e5-2dfb-4e44-b651-e1952542c542",
    "_uuid": "851bb045-1fa3-4062-9e43-77bb90f7877f"
   },
   "outputs": [
    {
     "data": {
      "text/plain": [
       "array([0.56831683, 0.5704163 , 0.59735683, 0.59474672, 0.72354389])"
      ]
     },
     "execution_count": 36,
     "metadata": {},
     "output_type": "execute_result"
    }
   ],
   "source": [
    "nb_tfidf = MultinomialNB()\n",
    "tfidf_scores = cross_val_score(nb_tfidf, train_tfidf, train[\"target\"], cv=5, scoring=\"f1\")\n",
    "tfidf_scores"
   ]
  },
  {
   "cell_type": "code",
   "execution_count": 37,
   "metadata": {
    "_cell_guid": "a90a3ac2-e805-4d14-a2e7-ba4d4632b16e",
    "_uuid": "5e7b8d3e-9b11-4be2-bb3c-edaf75e6ac10"
   },
   "outputs": [
    {
     "data": {
      "text/plain": [
       "MultinomialNB(alpha=1.0, class_prior=None, fit_prior=True)"
      ]
     },
     "execution_count": 37,
     "metadata": {},
     "output_type": "execute_result"
    }
   ],
   "source": [
    "nb_tfidf.fit(train_tfidf, train[\"target\"])"
   ]
  },
  {
   "cell_type": "markdown",
   "metadata": {
    "_cell_guid": "7daa23e1-adfd-4a47-a64f-9a8f94e42f6e",
    "_uuid": "e2326461-3f3c-4813-b06c-a6376561a1ec"
   },
   "source": [
    "<a id=\"section-seven\"></a>\n",
    "# 7. Submission"
   ]
  },
  {
   "cell_type": "code",
   "execution_count": 38,
   "metadata": {
    "_cell_guid": "2fc09a0d-0ebb-43c1-9ad0-41d631eb6987",
    "_uuid": "ed9ccbd9-c0ea-4a60-9694-0a37b8f64f38"
   },
   "outputs": [],
   "source": [
    "\n",
    "\n",
    "def save_submission_file(model):\n",
    "    test_pred = model.predict(test_tfidf)\n",
    "    dat ={'id':test['id'],  \"target\":test_pred}\n",
    "    submission = pd.DataFrame(dat)\n",
    "    csvfile = submission.to_csv(\"submission.csv\", index=False)\n",
    "    return csvfile\n",
    "save_submission_file(nb_tfidf)"
   ]
  },
  {
   "cell_type": "markdown",
   "metadata": {
    "_cell_guid": "28df4bad-6ab4-4435-b467-c9d2abb4b51a",
    "_uuid": "a42528d7-63e9-49de-bbba-528b6871c066"
   },
   "source": [
    "## Reference\n",
    "https://www.kaggle.com/parulpandey/getting-started-with-nlp-a-general-intro#-6.-Building-a-Text-Classification-model"
   ]
  },
  {
   "cell_type": "code",
   "execution_count": 0,
   "metadata": {
    "_cell_guid": "37ea48b0-e757-4b18-ac02-9b29a70c5507",
    "_uuid": "f060bc6f-2134-4725-b6f5-2ceeb31bd2ee"
   },
   "outputs": [],
   "source": []
  }
 ],
 "metadata": {
  "kernelspec": {
   "display_name": "Python 3",
   "language": "python",
   "name": "python3"
  },
  "language_info": {
   "codemirror_mode": {
    "name": "ipython",
    "version": 3
   },
   "file_extension": ".py",
   "mimetype": "text/x-python",
   "name": "python",
   "nbconvert_exporter": "python",
   "pygments_lexer": "ipython3",
   "version": "3.6.6"
  }
 },
 "nbformat": 4,
 "nbformat_minor": 4
}
